{
 "cells": [
  {
   "cell_type": "code",
   "execution_count": 29,
   "id": "2fdb3a75",
   "metadata": {},
   "outputs": [
    {
     "name": "stdout",
     "output_type": "stream",
     "text": [
      "1\n",
      "12\n",
      "123\n",
      "1234\n",
      "12345\n",
      "123456\n",
      "1234567\n",
      "12345678\n",
      "123456789\n",
      "12345678910\n"
     ]
    }
   ],
   "source": [
    "for i in range(1,11):\n",
    "    for j in range(i):\n",
    "        print(j+1,end='')\n",
    "    print()"
   ]
  },
  {
   "cell_type": "code",
   "execution_count": 37,
   "id": "9c7e92b8",
   "metadata": {},
   "outputs": [
    {
     "name": "stdout",
     "output_type": "stream",
     "text": [
      "1\n",
      "22\n",
      "333\n",
      "4444\n",
      "55555\n",
      "666666\n",
      "7777777\n",
      "88888888\n",
      "999999999\n",
      "10101010101010101010\n"
     ]
    }
   ],
   "source": [
    "for i in range(1,11):\n",
    "    for j in range(i):\n",
    "        print(i,end='')\n",
    "    print()"
   ]
  },
  {
   "cell_type": "code",
   "execution_count": 40,
   "id": "fbadbecd",
   "metadata": {},
   "outputs": [
    {
     "name": "stdout",
     "output_type": "stream",
     "text": [
      "A\n",
      "BB\n",
      "CCC\n",
      "DDDD\n",
      "EEEEE\n",
      "FFFFFF\n",
      "GGGGGGG\n",
      "HHHHHHHH\n",
      "IIIIIIIII\n",
      "JJJJJJJJJJ\n"
     ]
    }
   ],
   "source": [
    "for i in range(1,11):\n",
    "    for j in range(i):\n",
    "        print(chr(64+i),end='')\n",
    "    print()"
   ]
  },
  {
   "cell_type": "code",
   "execution_count": 48,
   "id": "99c30b57",
   "metadata": {},
   "outputs": [
    {
     "name": "stdout",
     "output_type": "stream",
     "text": [
      "A\n",
      "AB\n",
      "ABC\n",
      "ABCD\n",
      "ABCDE\n",
      "ABCDEF\n",
      "ABCDEFG\n",
      "ABCDEFGH\n",
      "ABCDEFGHI\n",
      "ABCDEFGHIJ\n"
     ]
    }
   ],
   "source": [
    "for i in range(1,11):\n",
    "    for j in range(i):\n",
    "        print(chr(65+j),end='')\n",
    "    print()"
   ]
  },
  {
   "cell_type": "code",
   "execution_count": 53,
   "id": "786b9062",
   "metadata": {},
   "outputs": [
    {
     "name": "stdout",
     "output_type": "stream",
     "text": [
      "**********\n",
      "*********\n",
      "********\n",
      "*******\n",
      "******\n",
      "*****\n",
      "****\n",
      "***\n",
      "**\n",
      "*\n"
     ]
    }
   ],
   "source": [
    "for i in range(1,11):\n",
    "    for j in range(11-i):\n",
    "        print('*',end='')\n",
    "    print()"
   ]
  },
  {
   "cell_type": "code",
   "execution_count": 56,
   "id": "7a9f959a",
   "metadata": {},
   "outputs": [
    {
     "name": "stdout",
     "output_type": "stream",
     "text": [
      "1111111111\n",
      "222222222\n",
      "33333333\n",
      "4444444\n",
      "555555\n",
      "66666\n",
      "7777\n",
      "888\n",
      "99\n",
      "10\n"
     ]
    }
   ],
   "source": [
    "for i in range(1,11):\n",
    "    for j in range(11-i):\n",
    "        print(i,end='')\n",
    "    print()"
   ]
  },
  {
   "cell_type": "code",
   "execution_count": 63,
   "id": "e638f47d",
   "metadata": {},
   "outputs": [
    {
     "name": "stdout",
     "output_type": "stream",
     "text": [
      "12345678910\n",
      "123456789\n",
      "12345678\n",
      "1234567\n",
      "123456\n",
      "12345\n",
      "1234\n",
      "123\n",
      "12\n",
      "1\n"
     ]
    }
   ],
   "source": [
    "for i in range(1,11):\n",
    "    for j in range(11-i):\n",
    "        print(j+1,end='')\n",
    "    print()"
   ]
  },
  {
   "cell_type": "code",
   "execution_count": 69,
   "id": "35cc5b3a",
   "metadata": {},
   "outputs": [
    {
     "name": "stdout",
     "output_type": "stream",
     "text": [
      "AAAAAAAAAA\n",
      "BBBBBBBBB\n",
      "CCCCCCCC\n",
      "DDDDDDD\n",
      "EEEEEE\n",
      "FFFFF\n",
      "GGGG\n",
      "HHH\n",
      "II\n",
      "J\n"
     ]
    }
   ],
   "source": [
    "for i in range(1,11):\n",
    "    for j in range(11-i):\n",
    "        print(chr(64+i),end='')\n",
    "    print()"
   ]
  },
  {
   "cell_type": "code",
   "execution_count": 77,
   "id": "e79cf5b0",
   "metadata": {},
   "outputs": [
    {
     "name": "stdout",
     "output_type": "stream",
     "text": [
      "AAAAAAAAAA\n",
      "BBBBBBBBB\n",
      "CCCCCCCC\n",
      "DDDDDDD\n",
      "EEEEEE\n",
      "FFFFF\n",
      "GGGG\n",
      "HHH\n",
      "II\n",
      "J\n"
     ]
    }
   ],
   "source": [
    "for i in range(10):\n",
    "    for j in range(10-i):\n",
    "        print(chr(65+i),end='')\n",
    "    print()"
   ]
  },
  {
   "cell_type": "code",
   "execution_count": 86,
   "id": "96a39243",
   "metadata": {},
   "outputs": [
    {
     "name": "stdout",
     "output_type": "stream",
     "text": [
      "JIHGFEDCBA\n",
      "JIHGFEDCBA\n",
      "JIHGFEDCBA\n",
      "JIHGFEDCBA\n",
      "JIHGFEDCBA\n",
      "JIHGFEDCBA\n",
      "JIHGFEDCBA\n",
      "JIHGFEDCBA\n",
      "JIHGFEDCBA\n",
      "JIHGFEDCBA\n"
     ]
    }
   ],
   "source": [
    "for i in range(10):\n",
    "    for j in range(10):\n",
    "        print(chr(74-j),end='')\n",
    "    print()"
   ]
  },
  {
   "cell_type": "code",
   "execution_count": 92,
   "id": "9a3c895b",
   "metadata": {},
   "outputs": [
    {
     "name": "stdout",
     "output_type": "stream",
     "text": [
      "*\n",
      "**\n",
      "***\n",
      "****\n",
      "*****\n",
      "******\n",
      "*******\n",
      "********\n",
      "*********\n",
      "**********\n"
     ]
    }
   ],
   "source": [
    "for i in range(10):\n",
    "    for j in range(i+1):\n",
    "        print('*',end='')\n",
    "    print()"
   ]
  },
  {
   "cell_type": "code",
   "execution_count": 97,
   "id": "8831fff9",
   "metadata": {},
   "outputs": [
    {
     "name": "stdout",
     "output_type": "stream",
     "text": [
      "**********\n",
      "*********\n",
      "********\n",
      "*******\n",
      "******\n",
      "*****\n",
      "****\n",
      "***\n",
      "**\n",
      "*\n"
     ]
    }
   ],
   "source": [
    "for i in range(10):   \n",
    "    for j in range(10-i):\n",
    "        print('*',end='')\n",
    "    print()"
   ]
  },
  {
   "cell_type": "code",
   "execution_count": 4,
   "id": "bebef3f2",
   "metadata": {},
   "outputs": [
    {
     "name": "stdout",
     "output_type": "stream",
     "text": [
      "1111111111\n",
      "222222222\n",
      "33333333\n",
      "4444444\n",
      "555555\n",
      "66666\n",
      "7777\n",
      "888\n",
      "99\n",
      "10\n"
     ]
    }
   ],
   "source": [
    "for i in range(1,11):\n",
    "    for j in range(11-i):\n",
    "        print(i,end='')\n",
    "    print()"
   ]
  },
  {
   "cell_type": "code",
   "execution_count": 9,
   "id": "f42598af",
   "metadata": {},
   "outputs": [
    {
     "name": "stdout",
     "output_type": "stream",
     "text": [
      "12345678910\n",
      "123456789\n",
      "12345678\n",
      "1234567\n",
      "123456\n",
      "12345\n",
      "1234\n",
      "123\n",
      "12\n",
      "1\n"
     ]
    }
   ],
   "source": [
    "for i in range(1,11):\n",
    "    for j in range(11-i):\n",
    "        print(j+1,end='')\n",
    "    print()"
   ]
  },
  {
   "cell_type": "code",
   "execution_count": 10,
   "id": "75e47ba4",
   "metadata": {},
   "outputs": [
    {
     "name": "stdout",
     "output_type": "stream",
     "text": [
      "AAAAAAAAAA\n",
      "BBBBBBBBB\n",
      "CCCCCCCC\n",
      "DDDDDDD\n",
      "EEEEEE\n",
      "FFFFF\n",
      "GGGG\n",
      "HHH\n",
      "II\n",
      "J\n"
     ]
    }
   ],
   "source": [
    "for i in range(1,11):\n",
    "    for j in range(11-i):\n",
    "        print(chr(64+i),end='')\n",
    "    print() "
   ]
  },
  {
   "cell_type": "code",
   "execution_count": 27,
   "id": "e463a775",
   "metadata": {},
   "outputs": [
    {
     "name": "stdout",
     "output_type": "stream",
     "text": [
      "enter the numbers10\n",
      "ABCDEFGHIJ\n",
      "ABCDEFGHI\n",
      "ABCDEFGH\n",
      "ABCDEFG\n",
      "ABCDEF\n",
      "ABCDE\n",
      "ABCD\n",
      "ABC\n",
      "AB\n",
      "A\n"
     ]
    }
   ],
   "source": [
    "n= int(input(\"enter the numbers\"))\n",
    "for i in range(n):\n",
    "    for j in range(n-i):\n",
    "        print(chr(64+j+1),end='')\n",
    "    print()"
   ]
  },
  {
   "cell_type": "code",
   "execution_count": 32,
   "id": "bfb43109",
   "metadata": {},
   "outputs": [
    {
     "name": "stdout",
     "output_type": "stream",
     "text": [
      "Enter the iterations10\n",
      "10987654321\n",
      "1098765432\n",
      "109876543\n",
      "10987654\n",
      "1098765\n",
      "109876\n",
      "10987\n",
      "1098\n",
      "109\n",
      "10\n"
     ]
    }
   ],
   "source": [
    "n= int(input('Enter the iterations'))#5\n",
    "for i in range(n): #5 \n",
    "    for j in range(n-i): #5 times\n",
    "        print(n-j,end='') # 5 times\n",
    "    print()# 5"
   ]
  },
  {
   "cell_type": "code",
   "execution_count": 39,
   "id": "d4918b5f",
   "metadata": {},
   "outputs": [
    {
     "name": "stdout",
     "output_type": "stream",
     "text": [
      "enter the iterations10\n",
      "JJJJJJJJJJ\n",
      "IIIIIIIII\n",
      "HHHHHHHH\n",
      "GGGGGGG\n",
      "FFFFFF\n",
      "EEEEE\n",
      "DDDD\n",
      "CCC\n",
      "BB\n",
      "A\n"
     ]
    }
   ],
   "source": [
    "n = int(input('enter the iterations'))\n",
    "for i in range(1,n+1):\n",
    "    for j in range(n+1-i):\n",
    "        print(chr(75-i),end='')\n",
    "    print()"
   ]
  },
  {
   "cell_type": "code",
   "execution_count": 48,
   "id": "a3540661",
   "metadata": {},
   "outputs": [
    {
     "name": "stdout",
     "output_type": "stream",
     "text": [
      "JIHGFEDCBA\n",
      "JIHGFEDCB\n",
      "JIHGFEDC\n",
      "JIHGFED\n",
      "JIHGFE\n",
      "JIHGF\n",
      "JIHG\n",
      "JIH\n",
      "JI\n",
      "J\n"
     ]
    }
   ],
   "source": [
    "for i in range(1,11):\n",
    "    for j in range(11-i):\n",
    "        print(chr(74-j),end='')\n",
    "    print()"
   ]
  },
  {
   "cell_type": "code",
   "execution_count": 68,
   "id": "af01afa3",
   "metadata": {},
   "outputs": [
    {
     "name": "stdout",
     "output_type": "stream",
     "text": [
      "           \n",
      "     *     \n",
      "     **    \n",
      "    ***    \n",
      "    ****   \n",
      "   *****   \n",
      "   ******  \n",
      "  *******  \n",
      "  ******** \n",
      " ********* \n",
      " **********\n"
     ]
    }
   ],
   "source": [
    "for i in range(11):\n",
    "    #var= '*'*i\n",
    "    print(str('*'*i).center(11,' '))\n",
    "    #for j in range(10-i):\n",
    "        #print('*')\n",
    "    #print()"
   ]
  },
  {
   "cell_type": "code",
   "execution_count": 91,
   "id": "f99baf80",
   "metadata": {},
   "outputs": [
    {
     "name": "stdout",
     "output_type": "stream",
     "text": [
      "*\n",
      "**\n",
      "***\n",
      "****\n",
      "*****\n",
      "******\n",
      "*******\n",
      "********\n",
      "*********\n",
      "**********\n"
     ]
    }
   ],
   "source": [
    "for i in range(1,11):\n",
    "    for j in range(i):\n",
    "        print('*',end='')\n",
    "    print()"
   ]
  },
  {
   "cell_type": "code",
   "execution_count": 130,
   "id": "36651435",
   "metadata": {},
   "outputs": [],
   "source": [
    "class operations():\n",
    "    def __init__(self,x,y):\n",
    "        self.x = x\n",
    "        self.y = y\n",
    "        self.c=0\n",
    "    def add_num(self):\n",
    "        self.c = self.x+self.y\n",
    "        return self.c\n",
    "    def sub_num(self):\n",
    "        self.c = self.x-self.y\n",
    "        return self.c\n",
    "    def __str__(self):\n",
    "        return self.c"
   ]
  },
  {
   "cell_type": "code",
   "execution_count": 131,
   "id": "d478f438",
   "metadata": {},
   "outputs": [
    {
     "data": {
      "text/plain": [
       "30"
      ]
     },
     "execution_count": 131,
     "metadata": {},
     "output_type": "execute_result"
    }
   ],
   "source": [
    "a = operations(10,20)\n",
    "a.add_num()"
   ]
  },
  {
   "cell_type": "code",
   "execution_count": 122,
   "id": "6d5879ca",
   "metadata": {},
   "outputs": [
    {
     "data": {
      "text/plain": [
       "<__main__.operations at 0x17c6cbb1340>"
      ]
     },
     "execution_count": 122,
     "metadata": {},
     "output_type": "execute_result"
    }
   ],
   "source": [
    "a"
   ]
  },
  {
   "cell_type": "code",
   "execution_count": 201,
   "id": "c9beec09",
   "metadata": {},
   "outputs": [],
   "source": [
    "class zoo():\n",
    "    def __init__(self,D):\n",
    "        self.D=D\n",
    "    def add_animals(self,Key,Value):\n",
    "        self.D[Key]=Value\n",
    "        return self.D\n",
    "    def gone_animals(self,Key,Value):\n",
    "        for Key in self.D.keys():     \n",
    "            if self.D[Key]>Value:\n",
    "                self.D[Key]=self.D[Key]-Value\n",
    "            else:\n",
    "                del D[Key]\n",
    "        return self.D\n",
    "    def highest_animals(self):\n",
    "            l=[]\n",
    "            z=max(self.D.values())\n",
    "            for Key in self.D:\n",
    "                if self.D[Key]==z:\n",
    "                    l.append(Key)\n",
    "            return l\n",
    "#     def lowest_animals(self):\n",
    "#         min(self.D[Value])\n",
    "#         return self.D   \n",
    "    def __str__(self):\n",
    "        return self.D"
   ]
  },
  {
   "cell_type": "code",
   "execution_count": 202,
   "id": "7e9237f6",
   "metadata": {},
   "outputs": [
    {
     "data": {
      "text/plain": [
       "{'Bala': 6, 'donkey': 8}"
      ]
     },
     "execution_count": 202,
     "metadata": {},
     "output_type": "execute_result"
    }
   ],
   "source": [
    "B={} \n",
    "B['Bala']=6\n",
    "B['donkey']=8\n",
    "B"
   ]
  },
  {
   "cell_type": "code",
   "execution_count": 203,
   "id": "e67211f9",
   "metadata": {},
   "outputs": [
    {
     "data": {
      "text/plain": [
       "{'Bala': 6, 'donkey': 8, 'Buffalo': 20}"
      ]
     },
     "execution_count": 203,
     "metadata": {},
     "output_type": "execute_result"
    }
   ],
   "source": [
    "model = zoo(B)\n",
    "model.add_animals('Buffalo',20)"
   ]
  },
  {
   "cell_type": "code",
   "execution_count": 204,
   "id": "39582399",
   "metadata": {},
   "outputs": [
    {
     "data": {
      "text/plain": [
       "['Buffalo']"
      ]
     },
     "execution_count": 204,
     "metadata": {},
     "output_type": "execute_result"
    }
   ],
   "source": [
    "model.highest_animals()"
   ]
  },
  {
   "cell_type": "code",
   "execution_count": 205,
   "id": "fa44ed3a",
   "metadata": {},
   "outputs": [
    {
     "data": {
      "text/plain": [
       "{'Bala': 4, 'donkey': 6, 'Buffalo': 18}"
      ]
     },
     "execution_count": 205,
     "metadata": {},
     "output_type": "execute_result"
    }
   ],
   "source": [
    "model.gone_animals('Buffalo',2)"
   ]
  },
  {
   "cell_type": "code",
   "execution_count": null,
   "id": "922f8b25",
   "metadata": {},
   "outputs": [],
   "source": [
    "changes on gi"
   ]
  },
  {
   "cell_type": "code",
   "execution_count": 208,
   "id": "b1800fcd",
   "metadata": {},
   "outputs": [
    {
     "ename": "TypeError",
     "evalue": "array() argument 1 must be a unicode character, not list",
     "output_type": "error",
     "traceback": [
      "\u001b[1;31m---------------------------------------------------------------------------\u001b[0m",
      "\u001b[1;31mTypeError\u001b[0m                                 Traceback (most recent call last)",
      "\u001b[1;32m<ipython-input-208-7a0d70c9bf48>\u001b[0m in \u001b[0;36m<module>\u001b[1;34m\u001b[0m\n\u001b[0;32m      1\u001b[0m \u001b[1;32mimport\u001b[0m \u001b[0marray\u001b[0m \u001b[1;32mas\u001b[0m \u001b[0marr\u001b[0m\u001b[1;33m\u001b[0m\u001b[1;33m\u001b[0m\u001b[0m\n\u001b[0;32m      2\u001b[0m \u001b[1;32mimport\u001b[0m \u001b[0mnumpy\u001b[0m\u001b[1;33m\u001b[0m\u001b[1;33m\u001b[0m\u001b[0m\n\u001b[1;32m----> 3\u001b[1;33m \u001b[0mval\u001b[0m  \u001b[1;33m=\u001b[0m \u001b[0marr\u001b[0m\u001b[1;33m.\u001b[0m\u001b[0marray\u001b[0m\u001b[1;33m(\u001b[0m\u001b[1;33m[\u001b[0m\u001b[1;36m10\u001b[0m\u001b[1;33m,\u001b[0m\u001b[1;36m20\u001b[0m\u001b[1;33m,\u001b[0m\u001b[1;36m30\u001b[0m\u001b[1;33m,\u001b[0m\u001b[1;36m40\u001b[0m\u001b[1;33m]\u001b[0m\u001b[1;33m,\u001b[0m\u001b[1;33m[\u001b[0m\u001b[1;36m20\u001b[0m\u001b[1;33m,\u001b[0m\u001b[1;36m30\u001b[0m\u001b[1;33m,\u001b[0m\u001b[1;36m40\u001b[0m\u001b[1;33m,\u001b[0m\u001b[1;36m50\u001b[0m\u001b[1;33m]\u001b[0m\u001b[1;33m)\u001b[0m\u001b[1;33m\u001b[0m\u001b[1;33m\u001b[0m\u001b[0m\n\u001b[0m\u001b[0;32m      4\u001b[0m \u001b[0mnewarr\u001b[0m\u001b[1;33m=\u001b[0m \u001b[0marr\u001b[0m\u001b[1;33m.\u001b[0m\u001b[0marray\u001b[0m\u001b[1;33m(\u001b[0m\u001b[0mval\u001b[0m\u001b[1;33m.\u001b[0m\u001b[0mtypecode\u001b[0m\u001b[1;33m,\u001b[0m\u001b[1;33m(\u001b[0m\u001b[0ma\u001b[0m \u001b[1;32mfor\u001b[0m \u001b[0ma\u001b[0m \u001b[1;32min\u001b[0m \u001b[0mval\u001b[0m\u001b[1;33m)\u001b[0m\u001b[1;33m)\u001b[0m\u001b[1;33m\u001b[0m\u001b[1;33m\u001b[0m\u001b[0m\n\u001b[0;32m      5\u001b[0m \u001b[0mi\u001b[0m\u001b[1;33m=\u001b[0m\u001b[1;36m0\u001b[0m\u001b[1;33m\u001b[0m\u001b[1;33m\u001b[0m\u001b[0m\n",
      "\u001b[1;31mTypeError\u001b[0m: array() argument 1 must be a unicode character, not list"
     ]
    }
   ],
   "source": [
    "import array as arr\n",
    "import numpy\n",
    "val  = arr.array('i',[10,20,30,40],[20,30,40,50])\n",
    "newarr= arr.array(val.typecode,(a for a in val))\n",
    "i=0\n",
    "while i <len(newarr):\n",
    "    print(newarr[i])\n",
    "    i+=1"
   ]
  },
  {
   "cell_type": "code",
   "execution_count": 225,
   "id": "9383f614",
   "metadata": {},
   "outputs": [
    {
     "data": {
      "text/plain": [
       "array([1, 2, 3, 4])"
      ]
     },
     "execution_count": 225,
     "metadata": {},
     "output_type": "execute_result"
    }
   ],
   "source": [
    "from numpy import *\n",
    "arr=array([1,2,3,4])\n",
    "arr"
   ]
  },
  {
   "cell_type": "code",
   "execution_count": 226,
   "id": "2cbe6f77",
   "metadata": {},
   "outputs": [
    {
     "data": {
      "text/plain": [
       "array([ 5, 10, 15, 20])"
      ]
     },
     "execution_count": 226,
     "metadata": {},
     "output_type": "execute_result"
    }
   ],
   "source": [
    "arr=arr*5\n",
    "arr"
   ]
  },
  {
   "cell_type": "code",
   "execution_count": 227,
   "id": "4811b3d2",
   "metadata": {},
   "outputs": [
    {
     "data": {
      "text/plain": [
       "array([1, 3, 4, 5])"
      ]
     },
     "execution_count": 227,
     "metadata": {},
     "output_type": "execute_result"
    }
   ],
   "source": [
    "arr2=array([1,3,4,5])\n",
    "arr2"
   ]
  },
  {
   "cell_type": "code",
   "execution_count": 228,
   "id": "79ede99f",
   "metadata": {},
   "outputs": [
    {
     "data": {
      "text/plain": [
       "array([ 6, 13, 19, 25])"
      ]
     },
     "execution_count": 228,
     "metadata": {},
     "output_type": "execute_result"
    }
   ],
   "source": [
    "final=arr+arr2\n",
    "final"
   ]
  },
  {
   "cell_type": "code",
   "execution_count": 231,
   "id": "dc84d3f7",
   "metadata": {},
   "outputs": [
    {
     "name": "stdout",
     "output_type": "stream",
     "text": [
      "[2.44948974 3.60555128 4.35889894 5.        ]\n",
      "63\n"
     ]
    }
   ],
   "source": [
    "print(sqrt(final))\n"
   ]
  },
  {
   "cell_type": "code",
   "execution_count": 232,
   "id": "9c21dca4",
   "metadata": {},
   "outputs": [
    {
     "name": "stdout",
     "output_type": "stream",
     "text": [
      "63\n"
     ]
    }
   ],
   "source": [
    "print(sum(final))"
   ]
  },
  {
   "cell_type": "code",
   "execution_count": 233,
   "id": "5ae54f9c",
   "metadata": {},
   "outputs": [
    {
     "name": "stdout",
     "output_type": "stream",
     "text": [
      "25\n"
     ]
    }
   ],
   "source": [
    "print(max(final))"
   ]
  },
  {
   "cell_type": "code",
   "execution_count": 235,
   "id": "10c89903",
   "metadata": {},
   "outputs": [
    {
     "name": "stdout",
     "output_type": "stream",
     "text": [
      "[ 5 10 15 20  1  3  4  5]\n"
     ]
    }
   ],
   "source": [
    "print(concatenate([arr,arr2]))"
   ]
  },
  {
   "cell_type": "code",
   "execution_count": 333,
   "id": "96ea7c81",
   "metadata": {},
   "outputs": [],
   "source": [
    "from numpy import *\n",
    "Mularray = array([\n",
    "                \n",
    "                [1,2,3],\n",
    "                [4,5,6],\n",
    "                [3,4,5],\n",
    "                [1,2,3],\n",
    "                [4,5,6],\n",
    "                [3,4,5]\n",
    "                \n",
    "                    ])"
   ]
  },
  {
   "cell_type": "code",
   "execution_count": 334,
   "id": "6db3a517",
   "metadata": {},
   "outputs": [
    {
     "data": {
      "text/plain": [
       "array([[1, 2, 3],\n",
       "       [4, 5, 6],\n",
       "       [3, 4, 5],\n",
       "       [1, 2, 3],\n",
       "       [4, 5, 6],\n",
       "       [3, 4, 5]])"
      ]
     },
     "execution_count": 334,
     "metadata": {},
     "output_type": "execute_result"
    }
   ],
   "source": [
    "Mularray"
   ]
  },
  {
   "cell_type": "code",
   "execution_count": 327,
   "id": "ef7a50c4",
   "metadata": {},
   "outputs": [
    {
     "name": "stdout",
     "output_type": "stream",
     "text": [
      "(3, 3)\n"
     ]
    }
   ],
   "source": [
    "print(Mularray.shape)"
   ]
  },
  {
   "cell_type": "code",
   "execution_count": 328,
   "id": "af084286",
   "metadata": {},
   "outputs": [
    {
     "name": "stdout",
     "output_type": "stream",
     "text": [
      "[1 2 3 4 5 6 3 4 5]\n"
     ]
    }
   ],
   "source": [
    "print(Mularray.flatten())"
   ]
  },
  {
   "cell_type": "code",
   "execution_count": 335,
   "id": "55c15c54",
   "metadata": {},
   "outputs": [
    {
     "name": "stdout",
     "output_type": "stream",
     "text": [
      "[[[1 2 3]\n",
      "  [4 5 6]\n",
      "  [3 4 5]]\n",
      "\n",
      " [[1 2 3]\n",
      "  [4 5 6]\n",
      "  [3 4 5]]]\n"
     ]
    }
   ],
   "source": [
    "print(Mularray.reshape(2,3,3))"
   ]
  },
  {
   "cell_type": "code",
   "execution_count": 336,
   "id": "2775bc1d",
   "metadata": {},
   "outputs": [],
   "source": [
    "#Matrices:\n",
    "ar = array([  \n",
    "            [1,2,3,4],\n",
    "            [4,5,6,7]\n",
    "            ])\n"
   ]
  },
  {
   "cell_type": "code",
   "execution_count": 337,
   "id": "a0fac53c",
   "metadata": {},
   "outputs": [
    {
     "name": "stdout",
     "output_type": "stream",
     "text": [
      "[[1 2 3 4]\n",
      " [4 5 6 7]]\n"
     ]
    }
   ],
   "source": [
    "m = matrix(ar)\n",
    "print(m)"
   ]
  },
  {
   "cell_type": "code",
   "execution_count": 341,
   "id": "1dba7ac5",
   "metadata": {},
   "outputs": [
    {
     "name": "stdout",
     "output_type": "stream",
     "text": [
      "[[1 2 3]\n",
      " [4 5 6]\n",
      " [7 8 9]]\n"
     ]
    }
   ],
   "source": [
    "m = matrix('1 2 3;4 5 6;7 8 9')\n",
    "print(m)"
   ]
  },
  {
   "cell_type": "code",
   "execution_count": 342,
   "id": "39a1aa14",
   "metadata": {},
   "outputs": [
    {
     "name": "stdout",
     "output_type": "stream",
     "text": [
      "[1 5 9]\n"
     ]
    }
   ],
   "source": [
    "#diagonal of a matrix\n",
    "z = diagonal(m)\n",
    "print(z)"
   ]
  },
  {
   "cell_type": "code",
   "execution_count": 345,
   "id": "7b8276dc",
   "metadata": {},
   "outputs": [
    {
     "name": "stdout",
     "output_type": "stream",
     "text": [
      "1\n",
      "9\n"
     ]
    }
   ],
   "source": [
    "# min of the matrix\n",
    "print(m.min())\n",
    "print(m.max())"
   ]
  },
  {
   "cell_type": "code",
   "execution_count": 348,
   "id": "f71108bc",
   "metadata": {},
   "outputs": [
    {
     "name": "stdout",
     "output_type": "stream",
     "text": [
      "[[ 2  4  6]\n",
      " [ 8 10 12]\n",
      " [14 16 18]]\n"
     ]
    }
   ],
   "source": [
    "m1=matrix('1 2 3;4 5 6;7 8 9')\n",
    "m2=matrix('1 2 3;4 5 6;7 8 9')\n",
    "m3=m1+m2\n",
    "print(m3)"
   ]
  },
  {
   "cell_type": "code",
   "execution_count": 315,
   "id": "fdd74da6",
   "metadata": {},
   "outputs": [],
   "source": [
    "class animal():\n",
    "    def __init__(self,age):\n",
    "        self.age = age\n",
    "        self.name = None\n",
    "    def getage(self):\n",
    "        return self.age\n",
    "    def getname(self):\n",
    "        return self.name\n",
    "    def setage(self,newage=''):\n",
    "        self.age = newage\n",
    "        return self.age\n",
    "    def setname(self,name):\n",
    "        self.name = name\n",
    "        return self.name\n",
    "    def __str__(self):\n",
    "        return str(self.name)+', '+str(self.age)"
   ]
  },
  {
   "cell_type": "code",
   "execution_count": 316,
   "id": "a078e950",
   "metadata": {},
   "outputs": [],
   "source": [
    "a = animal(10)"
   ]
  },
  {
   "cell_type": "code",
   "execution_count": 317,
   "id": "d965ea78",
   "metadata": {},
   "outputs": [
    {
     "data": {
      "text/plain": [
       "__main__.animal"
      ]
     },
     "execution_count": 317,
     "metadata": {},
     "output_type": "execute_result"
    }
   ],
   "source": [
    "type(a)"
   ]
  },
  {
   "cell_type": "code",
   "execution_count": 320,
   "id": "02e694c4",
   "metadata": {},
   "outputs": [
    {
     "data": {
      "text/plain": [
       "''"
      ]
     },
     "execution_count": 320,
     "metadata": {},
     "output_type": "execute_result"
    }
   ],
   "source": [
    "a.getage()"
   ]
  },
  {
   "cell_type": "code",
   "execution_count": 311,
   "id": "ff754f26",
   "metadata": {},
   "outputs": [],
   "source": [
    "a.getname()"
   ]
  },
  {
   "cell_type": "code",
   "execution_count": 319,
   "id": "f5721038",
   "metadata": {},
   "outputs": [
    {
     "data": {
      "text/plain": [
       "''"
      ]
     },
     "execution_count": 319,
     "metadata": {},
     "output_type": "execute_result"
    }
   ],
   "source": [
    "a.setage()"
   ]
  },
  {
   "cell_type": "code",
   "execution_count": 313,
   "id": "c85ec3e7",
   "metadata": {},
   "outputs": [
    {
     "data": {
      "text/plain": [
       "'string'"
      ]
     },
     "execution_count": 313,
     "metadata": {},
     "output_type": "execute_result"
    }
   ],
   "source": [
    "a.setname('string')"
   ]
  },
  {
   "cell_type": "code",
   "execution_count": 314,
   "id": "ac6458f9",
   "metadata": {},
   "outputs": [
    {
     "name": "stdout",
     "output_type": "stream",
     "text": [
      "string, 30\n"
     ]
    }
   ],
   "source": [
    "print(a)"
   ]
  },
  {
   "cell_type": "code",
   "execution_count": 324,
   "id": "b77b543b",
   "metadata": {},
   "outputs": [
    {
     "ename": "NameError",
     "evalue": "name 'self' is not defined",
     "output_type": "error",
     "traceback": [
      "\u001b[1;31m---------------------------------------------------------------------------\u001b[0m",
      "\u001b[1;31mNameError\u001b[0m                                 Traceback (most recent call last)",
      "\u001b[1;32m<ipython-input-324-df83ffda6329>\u001b[0m in \u001b[0;36m<module>\u001b[1;34m\u001b[0m\n\u001b[1;32m----> 1\u001b[1;33m \u001b[0mself\u001b[0m\u001b[1;33m.\u001b[0m\u001b[0ma\u001b[0m \u001b[1;33m=\u001b[0m \u001b[1;36m1\u001b[0m\u001b[1;33m\u001b[0m\u001b[1;33m\u001b[0m\u001b[0m\n\u001b[0m",
      "\u001b[1;31mNameError\u001b[0m: name 'self' is not defined"
     ]
    }
   ],
   "source": [
    "self.a = 1"
   ]
  },
  {
   "cell_type": "code",
   "execution_count": 322,
   "id": "328bcd4d",
   "metadata": {},
   "outputs": [],
   "source": [
    "sai =[]"
   ]
  },
  {
   "cell_type": "code",
   "execution_count": 355,
   "id": "ed55ec78",
   "metadata": {},
   "outputs": [],
   "source": [
    "#functions:\n",
    "\n",
    "def greet():\n",
    "    print(\"Hello\")\n",
    "    print(\"Good Morning\")"
   ]
  },
  {
   "cell_type": "code",
   "execution_count": 356,
   "id": "729dc338",
   "metadata": {},
   "outputs": [
    {
     "name": "stdout",
     "output_type": "stream",
     "text": [
      "Hello\n",
      "Good Morning\n"
     ]
    }
   ],
   "source": [
    "greet()"
   ]
  },
  {
   "cell_type": "code",
   "execution_count": 361,
   "id": "de7dca39",
   "metadata": {},
   "outputs": [],
   "source": [
    "#add two numbers\n",
    "def add(x,y):\n",
    "    c=x+y\n",
    "    return c"
   ]
  },
  {
   "cell_type": "code",
   "execution_count": 368,
   "id": "c86fe9c2",
   "metadata": {},
   "outputs": [
    {
     "name": "stdout",
     "output_type": "stream",
     "text": [
      "9\n"
     ]
    }
   ],
   "source": [
    "result=add(4,5)\n",
    "print(result)"
   ]
  },
  {
   "cell_type": "code",
   "execution_count": 370,
   "id": "12761533",
   "metadata": {},
   "outputs": [],
   "source": [
    "#add two numbers\n",
    "def add_sub(x,y):\n",
    "    c=x+y\n",
    "    d=x-y\n",
    "    return c,d"
   ]
  },
  {
   "cell_type": "code",
   "execution_count": 372,
   "id": "4cbb7ec7",
   "metadata": {},
   "outputs": [],
   "source": [
    "result1,result2=add_sub(5,4)"
   ]
  },
  {
   "cell_type": "code",
   "execution_count": 373,
   "id": "abdb2bc9",
   "metadata": {},
   "outputs": [
    {
     "name": "stdout",
     "output_type": "stream",
     "text": [
      "9 1\n"
     ]
    }
   ],
   "source": [
    "print(result1,result2)"
   ]
  },
  {
   "cell_type": "code",
   "execution_count": 2,
   "id": "9dcdc2b9",
   "metadata": {},
   "outputs": [
    {
     "name": "stdout",
     "output_type": "stream",
     "text": [
      "8\n"
     ]
    }
   ],
   "source": [
    "# funcion \n",
    "def update(x):\n",
    "    x=8\n",
    "    print(x)\n",
    "update(10)"
   ]
  },
  {
   "cell_type": "code",
   "execution_count": 5,
   "id": "74f3297e",
   "metadata": {},
   "outputs": [
    {
     "name": "stdout",
     "output_type": "stream",
     "text": [
      "140704658827344\n",
      "140704658827344\n",
      "x 10\n",
      "a 10\n"
     ]
    }
   ],
   "source": [
    "# pass by value \n",
    "def update(x):\n",
    "    print(id(x))\n",
    "    x=10\n",
    "    print(\"x\",x)\n",
    "\n",
    "a=10\n",
    "print(id(a))\n",
    "update(a)\n",
    "print(\"a\",(a))"
   ]
  },
  {
   "cell_type": "code",
   "execution_count": 6,
   "id": "bf393a5d",
   "metadata": {},
   "outputs": [
    {
     "name": "stdout",
     "output_type": "stream",
     "text": [
      "140704658827344\n",
      "140704658827344\n",
      "140704658827280\n",
      "x 8\n",
      "a 10\n"
     ]
    }
   ],
   "source": [
    "# pass by reference \n",
    "def update(x):\n",
    "    print(id(x))\n",
    "    x=8\n",
    "    print(id(x))\n",
    "    print(\"x\",x)\n",
    "\n",
    "a=10\n",
    "print(id(a))\n",
    "update(a)\n",
    "print(\"a\",(a))"
   ]
  },
  {
   "cell_type": "code",
   "execution_count": 2,
   "id": "7f0f6af0",
   "metadata": {},
   "outputs": [
    {
     "name": "stdout",
     "output_type": "stream",
     "text": [
      "1319004035648\n",
      "1319004035648\n",
      "1319004035648\n",
      "updated lst [10, 8, 30]\n",
      "lst [10, 8, 30]\n"
     ]
    }
   ],
   "source": [
    "# list funcion  still it is mutable, the address doesnt change\n",
    "def update(lst):\n",
    "    print(id(lst))\n",
    "    lst[1]=8\n",
    "    print(id(lst))\n",
    "    print(\"updated lst\",lst)\n",
    "\n",
    "lst=[10,20,30]\n",
    "print(id(lst))\n",
    "update(lst)\n",
    "print(\"lst\",(lst))"
   ]
  },
  {
   "cell_type": "code",
   "execution_count": 10,
   "id": "7533cce2",
   "metadata": {},
   "outputs": [
    {
     "name": "stdout",
     "output_type": "stream",
     "text": [
      "100\n"
     ]
    }
   ],
   "source": [
    "#pass the args in the different way\n",
    "def add(a,*b):\n",
    "    c=0\n",
    "    for i in b:\n",
    "        c+=i\n",
    "    print(c)\n",
    "\n",
    "add(10,20,30,50)"
   ]
  },
  {
   "cell_type": "code",
   "execution_count": 13,
   "id": "e2809abe",
   "metadata": {},
   "outputs": [
    {
     "name": "stdout",
     "output_type": "stream",
     "text": [
      "sai\n",
      "age 28\n",
      "city mumbai\n",
      "mob 9239230232\n"
     ]
    }
   ],
   "source": [
    "# Keyworded Variable Length Arguments in Python **kwargs\n",
    "\n",
    "def person(name,**data):\n",
    "    print(name)\n",
    "    for i,j in data.items():\n",
    "        print(i,j)\n",
    "\n",
    "person('sai',age = 28,city='mumbai',mob=9239230232)\n"
   ]
  },
  {
   "cell_type": "code",
   "execution_count": 27,
   "id": "b1fbffe9",
   "metadata": {},
   "outputs": [
    {
     "name": "stdout",
     "output_type": "stream",
     "text": [
      "140704658827344\n",
      "140704658827344\n",
      "10\n",
      "140704658827664\n",
      "inside 20\n",
      "outside 20\n"
     ]
    }
   ],
   "source": [
    "#Global Keyword in Python | Global vs Local Variable\n",
    "\n",
    "a= 10\n",
    "print(id(a))\n",
    "def inside():\n",
    "    global a\n",
    "    print(id(a))\n",
    "    print(a)\n",
    "    a=20\n",
    "    print(id(a))\n",
    "    print(\"inside\",a)\n",
    "inside()\n",
    "print(\"outside\",a)    "
   ]
  },
  {
   "cell_type": "code",
   "execution_count": 31,
   "id": "6c84fda9",
   "metadata": {},
   "outputs": [
    {
     "name": "stdout",
     "output_type": "stream",
     "text": [
      "140704658827344\n",
      "140704658827344\n",
      "inside 9\n",
      "outside 15\n"
     ]
    }
   ],
   "source": [
    "a=10  # global variable a=10\n",
    "print(id(a))\n",
    "def something():\n",
    "    a=9    # local variable a=9 \n",
    "    x=globals()['a'] # globals keyword act as local & global\n",
    "    print(id(x))   # get the access of global variable 'a' & x=10\n",
    "    print(\"inside\",a)\n",
    "    globals()['a']=15   # new value of a \n",
    "    \n",
    "something() # call something function , initially a = 9\n",
    "\n",
    "print(\"outside\",a)"
   ]
  },
  {
   "cell_type": "code",
   "execution_count": 38,
   "id": "ca5bfaa4",
   "metadata": {},
   "outputs": [
    {
     "name": "stdout",
     "output_type": "stream",
     "text": [
      "Even:5 and odd:3\n"
     ]
    }
   ],
   "source": [
    "# Pass List to a Function in Python\n",
    "\n",
    "def count(lst):\n",
    "    even=0\n",
    "    odd=0\n",
    "    for i in lst:\n",
    "        if i%2==0:\n",
    "            even+=1\n",
    "        else:\n",
    "            odd+=1\n",
    "    return even,odd\n",
    "\n",
    "lst=[10,20,23,43,53,60,70,80]\n",
    "even,odd= count(lst)\n",
    "print(\"Even:{} and odd:{}\".format(even,odd))"
   ]
  },
  {
   "cell_type": "code",
   "execution_count": 40,
   "id": "4b65520c",
   "metadata": {},
   "outputs": [
    {
     "name": "stdout",
     "output_type": "stream",
     "text": [
      "2\n",
      "3\n",
      "4\n",
      "(3, 4)\n"
     ]
    }
   ],
   "source": [
    "import re\n",
    "x='My 2 favourite numbers are 19 and 42'\n",
    "match = re.search('[0-9]+',x)\n",
    "print(match.group())\n",
    "print(match.start())\n",
    "print(match.end())\n",
    "print(match.span())"
   ]
  },
  {
   "cell_type": "code",
   "execution_count": 50,
   "id": "8ea3e029",
   "metadata": {},
   "outputs": [
    {
     "name": "stdout",
     "output_type": "stream",
     "text": [
      "['2', '19', '42']\n",
      "[]\n"
     ]
    }
   ],
   "source": [
    "matches = re.findall('[0-9]+',x)\n",
    "print(matches)\n",
    "matches=re.findall('ATEXT',x)\n",
    "print(matches)"
   ]
  },
  {
   "cell_type": "code",
   "execution_count": 92,
   "id": "f196842a",
   "metadata": {},
   "outputs": [],
   "source": [
    "#Iterators \n",
    "\n",
    "L=[1,2,3,4,5]\n",
    "it1=iter(L)"
   ]
  },
  {
   "cell_type": "code",
   "execution_count": 93,
   "id": "8226d1cd",
   "metadata": {},
   "outputs": [
    {
     "name": "stdout",
     "output_type": "stream",
     "text": [
      "1\n"
     ]
    }
   ],
   "source": [
    "print(next(it1))\n",
    "\n",
    "#or \n",
    "#it3.__next__()"
   ]
  },
  {
   "cell_type": "code",
   "execution_count": 94,
   "id": "38885f3f",
   "metadata": {},
   "outputs": [
    {
     "name": "stdout",
     "output_type": "stream",
     "text": [
      "2\n"
     ]
    }
   ],
   "source": [
    "print(next(it1))"
   ]
  },
  {
   "cell_type": "code",
   "execution_count": 95,
   "id": "11cdb96b",
   "metadata": {},
   "outputs": [
    {
     "name": "stdout",
     "output_type": "stream",
     "text": [
      "3\n"
     ]
    }
   ],
   "source": [
    "print(next(it1))"
   ]
  },
  {
   "cell_type": "code",
   "execution_count": 96,
   "id": "7f961178",
   "metadata": {},
   "outputs": [
    {
     "name": "stdout",
     "output_type": "stream",
     "text": [
      "4\n"
     ]
    }
   ],
   "source": [
    "print(next(it1))"
   ]
  },
  {
   "cell_type": "code",
   "execution_count": 97,
   "id": "b4cf5b5d",
   "metadata": {},
   "outputs": [
    {
     "name": "stdout",
     "output_type": "stream",
     "text": [
      "5\n"
     ]
    }
   ],
   "source": [
    "print(next(it1))"
   ]
  },
  {
   "cell_type": "code",
   "execution_count": 100,
   "id": "0e70da02",
   "metadata": {},
   "outputs": [],
   "source": [
    "it4=L.__iter__()"
   ]
  },
  {
   "cell_type": "code",
   "execution_count": 101,
   "id": "f1b3a0e6",
   "metadata": {},
   "outputs": [
    {
     "data": {
      "text/plain": [
       "1"
      ]
     },
     "execution_count": 101,
     "metadata": {},
     "output_type": "execute_result"
    }
   ],
   "source": [
    "next(it4)"
   ]
  },
  {
   "cell_type": "code",
   "execution_count": 104,
   "id": "0f849acf",
   "metadata": {},
   "outputs": [
    {
     "name": "stdout",
     "output_type": "stream",
     "text": [
      "1\n",
      "2\n",
      "3\n",
      "4\n",
      "5\n"
     ]
    }
   ],
   "source": [
    "# iterators for loop by using interpreter\n",
    "for i in L:\n",
    "    print(i)"
   ]
  },
  {
   "cell_type": "code",
   "execution_count": 110,
   "id": "79921ff9",
   "metadata": {},
   "outputs": [],
   "source": [
    "#Fibonacci():\n",
    "class Fibonacci():\n",
    "    def __init__(self):\n",
    "        self.a,self.b=0,1\n",
    "    def __iter__(self):\n",
    "        return(self)\n",
    "        \n",
    "    def __next__(self):\n",
    "        prev = self.a\n",
    "        self.a,self.b=self.b,self.a+self.b\n",
    "        return prev"
   ]
  },
  {
   "cell_type": "code",
   "execution_count": 111,
   "id": "a84a1d10",
   "metadata": {},
   "outputs": [
    {
     "name": "stdout",
     "output_type": "stream",
     "text": [
      "0\n",
      "1\n",
      "1\n",
      "2\n",
      "3\n",
      "5\n",
      "8\n",
      "13\n",
      "21\n",
      "34\n"
     ]
    }
   ],
   "source": [
    "f= iter(Fibonacci())\n",
    "for i in range(10):\n",
    "    print(next(f))"
   ]
  },
  {
   "cell_type": "code",
   "execution_count": 114,
   "id": "1e4f01c4",
   "metadata": {},
   "outputs": [
    {
     "name": "stdout",
     "output_type": "stream",
     "text": [
      "0 0\n",
      "1 1\n",
      "2 1\n",
      "3 2\n",
      "4 3\n",
      "5 5\n",
      "6 8\n",
      "7 13\n",
      "8 21\n",
      "9 34\n"
     ]
    }
   ],
   "source": [
    "#instead of above for loop \n",
    "for j,i in zip(range(10), Fibonacci()):\n",
    "    print(j,i)\n",
    "# j is index and i is Fibonacci series "
   ]
  },
  {
   "cell_type": "code",
   "execution_count": 124,
   "id": "75c68bda",
   "metadata": {},
   "outputs": [],
   "source": [
    "# implementation of generator function \n",
    "def fibonacci(n):\n",
    "    a,b=1,1\n",
    "    for _ in range(n):\n",
    "        a,b=a+b,a\n",
    "        yield a\n"
   ]
  },
  {
   "cell_type": "code",
   "execution_count": 125,
   "id": "39d04ecd",
   "metadata": {},
   "outputs": [
    {
     "name": "stdout",
     "output_type": "stream",
     "text": [
      "2\n",
      "3\n",
      "5\n",
      "8\n",
      "13\n",
      "21\n",
      "34\n",
      "55\n",
      "89\n",
      "144\n",
      "233\n",
      "377\n",
      "610\n",
      "987\n",
      "1597\n",
      "2584\n",
      "4181\n",
      "6765\n",
      "10946\n",
      "17711\n"
     ]
    }
   ],
   "source": [
    "for f in fibonacci(20):\n",
    "    print(f)        "
   ]
  },
  {
   "cell_type": "code",
   "execution_count": null,
   "id": "44a92915",
   "metadata": {},
   "outputs": [],
   "source": [
    "def fibonacci(n):\n",
    "    a,b=0,1\n",
    "    for _ in range(n):\n",
    "        prev=a\n",
    "        a,b=b,a+b\n",
    "        yield prev"
   ]
  },
  {
   "cell_type": "code",
   "execution_count": 139,
   "id": "28be8c91",
   "metadata": {},
   "outputs": [
    {
     "name": "stdout",
     "output_type": "stream",
     "text": [
      "2\n",
      "3\n",
      "5\n",
      "8\n",
      "13\n"
     ]
    }
   ],
   "source": [
    "for i in fibonacci(5):\n",
    "    print(i)"
   ]
  },
  {
   "cell_type": "code",
   "execution_count": 140,
   "id": "e90ca0dd",
   "metadata": {},
   "outputs": [],
   "source": [
    "# differenc between yield and return\n",
    "\n",
    "def mygenerator():\n",
    "    print('First item')\n",
    "    yield 10\n",
    "\n",
    "    return\n",
    "\n",
    "    print('Second item')\n",
    "    yield 20\n",
    "\n",
    "    print('Last item')\n",
    "    yield 30\n",
    "    "
   ]
  },
  {
   "cell_type": "code",
   "execution_count": 141,
   "id": "29672262",
   "metadata": {},
   "outputs": [
    {
     "name": "stdout",
     "output_type": "stream",
     "text": [
      "First item\n"
     ]
    },
    {
     "data": {
      "text/plain": [
       "10"
      ]
     },
     "execution_count": 141,
     "metadata": {},
     "output_type": "execute_result"
    }
   ],
   "source": [
    "gen = mygenerator()\n",
    "next(gen)"
   ]
  },
  {
   "cell_type": "code",
   "execution_count": 142,
   "id": "b4f7eec0",
   "metadata": {},
   "outputs": [
    {
     "ename": "StopIteration",
     "evalue": "",
     "output_type": "error",
     "traceback": [
      "\u001b[1;31m---------------------------------------------------------------------------\u001b[0m",
      "\u001b[1;31mStopIteration\u001b[0m                             Traceback (most recent call last)",
      "\u001b[1;32m<ipython-input-142-6e72e47198db>\u001b[0m in \u001b[0;36m<module>\u001b[1;34m\u001b[0m\n\u001b[1;32m----> 1\u001b[1;33m \u001b[0mnext\u001b[0m\u001b[1;33m(\u001b[0m\u001b[0mgen\u001b[0m\u001b[1;33m)\u001b[0m\u001b[1;33m\u001b[0m\u001b[1;33m\u001b[0m\u001b[0m\n\u001b[0m",
      "\u001b[1;31mStopIteration\u001b[0m: "
     ]
    }
   ],
   "source": [
    "next(gen)"
   ]
  },
  {
   "cell_type": "code",
   "execution_count": 145,
   "id": "5fa571a6",
   "metadata": {},
   "outputs": [],
   "source": [
    "def get_sequence_upto(x):\n",
    "    for i in range(x):\n",
    "        yield i"
   ]
  },
  {
   "cell_type": "code",
   "execution_count": 146,
   "id": "6f2c6d8e",
   "metadata": {},
   "outputs": [],
   "source": [
    "seq = get_sequence_upto(5) "
   ]
  },
  {
   "cell_type": "code",
   "execution_count": 147,
   "id": "07d957f4",
   "metadata": {},
   "outputs": [
    {
     "data": {
      "text/plain": [
       "0"
      ]
     },
     "execution_count": 147,
     "metadata": {},
     "output_type": "execute_result"
    }
   ],
   "source": [
    "next(seq)"
   ]
  },
  {
   "cell_type": "code",
   "execution_count": 148,
   "id": "5e186e52",
   "metadata": {},
   "outputs": [
    {
     "data": {
      "text/plain": [
       "1"
      ]
     },
     "execution_count": 148,
     "metadata": {},
     "output_type": "execute_result"
    }
   ],
   "source": [
    "next(seq)"
   ]
  },
  {
   "cell_type": "code",
   "execution_count": 149,
   "id": "f75441c7",
   "metadata": {},
   "outputs": [
    {
     "data": {
      "text/plain": [
       "2"
      ]
     },
     "execution_count": 149,
     "metadata": {},
     "output_type": "execute_result"
    }
   ],
   "source": [
    "next(seq)"
   ]
  },
  {
   "cell_type": "code",
   "execution_count": null,
   "id": "be739480",
   "metadata": {},
   "outputs": [],
   "source": []
  },
  {
   "cell_type": "code",
   "execution_count": null,
   "id": "45f66232",
   "metadata": {},
   "outputs": [],
   "source": []
  },
  {
   "cell_type": "code",
   "execution_count": 127,
   "id": "230dd03e",
   "metadata": {},
   "outputs": [
    {
     "name": "stdout",
     "output_type": "stream",
     "text": [
      "20 10\n"
     ]
    }
   ],
   "source": [
    "x=10;y=20\n",
    "x,y=y,x\n",
    "print(x,y)"
   ]
  },
  {
   "cell_type": "code",
   "execution_count": 133,
   "id": "cb579ea1",
   "metadata": {},
   "outputs": [
    {
     "name": "stdout",
     "output_type": "stream",
     "text": [
      "3\n"
     ]
    }
   ],
   "source": [
    "\n",
    "def gen():\n",
    "    yield 3\n",
    "    yield 4\n",
    "\n",
    "value = gen()\n",
    "\n",
    "print(value.__next__())"
   ]
  },
  {
   "cell_type": "code",
   "execution_count": 130,
   "id": "a21e6010",
   "metadata": {},
   "outputs": [
    {
     "name": "stdout",
     "output_type": "stream",
     "text": [
      "4\n"
     ]
    }
   ],
   "source": [
    "print(value.__next__())"
   ]
  },
  {
   "cell_type": "code",
   "execution_count": 138,
   "id": "951dcb9d",
   "metadata": {},
   "outputs": [
    {
     "name": "stdout",
     "output_type": "stream",
     "text": [
      "3\n"
     ]
    }
   ],
   "source": [
    "def gen():\n",
    "    value=3\n",
    "    return value\n",
    "#    return 4\n",
    "\n",
    "value = gen()\n",
    "print(value)"
   ]
  },
  {
   "cell_type": "code",
   "execution_count": null,
   "id": "428c643f",
   "metadata": {},
   "outputs": [],
   "source": []
  },
  {
   "cell_type": "code",
   "execution_count": 151,
   "id": "4ac8707d",
   "metadata": {},
   "outputs": [
    {
     "name": "stdout",
     "output_type": "stream",
     "text": [
      "[1, 4, 9, 16, 25]\n"
     ]
    }
   ],
   "source": [
    "#List comprehensions;\n",
    "o=[]\n",
    "for i in [1,2,3,4,5]:\n",
    "    o.append(i*i)\n",
    "print(o)"
   ]
  },
  {
   "cell_type": "code",
   "execution_count": 152,
   "id": "f07a3d0d",
   "metadata": {},
   "outputs": [
    {
     "data": {
      "text/plain": [
       "[1, 4, 9, 16, 25]"
      ]
     },
     "execution_count": 152,
     "metadata": {},
     "output_type": "execute_result"
    }
   ],
   "source": [
    "# Efficient way for list comprehension\n",
    "[i*i for i in [1,2,3,4,5]]"
   ]
  },
  {
   "cell_type": "code",
   "execution_count": 190,
   "id": "bef67ddf",
   "metadata": {},
   "outputs": [
    {
     "data": {
      "text/plain": [
       "[1, 9, 25, 49, 81]"
      ]
     },
     "execution_count": 190,
     "metadata": {},
     "output_type": "execute_result"
    }
   ],
   "source": [
    "[i*i for i in range(10) if i%2]"
   ]
  },
  {
   "cell_type": "code",
   "execution_count": 173,
   "id": "02f3e42b",
   "metadata": {},
   "outputs": [
    {
     "data": {
      "text/plain": [
       "1"
      ]
     },
     "execution_count": 173,
     "metadata": {},
     "output_type": "execute_result"
    }
   ],
   "source": [
    "[i*i for i in range(10) if i%2==0]"
   ]
  },
  {
   "cell_type": "code",
   "execution_count": 2,
   "id": "d27fb69d",
   "metadata": {},
   "outputs": [],
   "source": [
    "#fibonacci series\n",
    "def fibonacci(n):\n",
    "    a,b=0,1\n",
    "    for _ in range(n):\n",
    "        prev=a\n",
    "        a,b=b,a+b\n",
    "        yield prev"
   ]
  },
  {
   "cell_type": "code",
   "execution_count": 3,
   "id": "119cf26a",
   "metadata": {},
   "outputs": [
    {
     "data": {
      "text/plain": [
       "[0, 1, 1, 2, 3, 5, 8, 13, 21, 34]"
      ]
     },
     "execution_count": 3,
     "metadata": {},
     "output_type": "execute_result"
    }
   ],
   "source": [
    "[i for i in fibonacci(10)]"
   ]
  },
  {
   "cell_type": "code",
   "execution_count": 4,
   "id": "21babfeb",
   "metadata": {},
   "outputs": [
    {
     "data": {
      "text/plain": [
       "[13, 21, 34, 55, 89]"
      ]
     },
     "execution_count": 4,
     "metadata": {},
     "output_type": "execute_result"
    }
   ],
   "source": [
    "[x for x in range(10,100) if x in fibonacci(100)]"
   ]
  },
  {
   "cell_type": "code",
   "execution_count": 5,
   "id": "2113ab74",
   "metadata": {},
   "outputs": [
    {
     "data": {
      "text/plain": [
       "[0, 2, 8, 34]"
      ]
     },
     "execution_count": 5,
     "metadata": {},
     "output_type": "execute_result"
    }
   ],
   "source": [
    "[x for x in fibonacci(10) if x%2==0]"
   ]
  },
  {
   "cell_type": "code",
   "execution_count": 6,
   "id": "5391a55c",
   "metadata": {},
   "outputs": [
    {
     "data": {
      "text/plain": [
       "<generator object <genexpr> at 0x000002B7DEFAF5F0>"
      ]
     },
     "execution_count": 6,
     "metadata": {},
     "output_type": "execute_result"
    }
   ],
   "source": [
    "(x for x in fibonacci(10) if x%2==0)"
   ]
  },
  {
   "cell_type": "code",
   "execution_count": 7,
   "id": "9c446f09",
   "metadata": {},
   "outputs": [
    {
     "data": {
      "text/plain": [
       "<generator object <genexpr> at 0x000002B7DEFAF820>"
      ]
     },
     "execution_count": 7,
     "metadata": {},
     "output_type": "execute_result"
    }
   ],
   "source": [
    "(x for x in fibonacci(100000) if x%2==0)"
   ]
  },
  {
   "cell_type": "code",
   "execution_count": 11,
   "id": "3c741f8c",
   "metadata": {},
   "outputs": [
    {
     "name": "stdout",
     "output_type": "stream",
     "text": [
      "0\n",
      "2\n",
      "8\n",
      "34\n",
      "144\n",
      "610\n",
      "2584\n",
      "10946\n",
      "46368\n",
      "196418\n",
      "832040\n",
      "3524578\n",
      "14930352\n",
      "63245986\n",
      "267914296\n",
      "1134903170\n",
      "4807526976\n",
      "20365011074\n",
      "86267571272\n",
      "365435296162\n",
      "1548008755920\n",
      "6557470319842\n",
      "27777890035288\n",
      "117669030460994\n",
      "498454011879264\n",
      "2111485077978050\n",
      "8944394323791464\n",
      "37889062373143906\n",
      "160500643816367088\n",
      "679891637638612258\n",
      "2880067194370816120\n",
      "12200160415121876738\n",
      "51680708854858323072\n",
      "218922995834555169026\n"
     ]
    },
    {
     "ename": "StopIteration",
     "evalue": "",
     "output_type": "error",
     "traceback": [
      "\u001b[1;31m---------------------------------------------------------------------------\u001b[0m",
      "\u001b[1;31mStopIteration\u001b[0m                             Traceback (most recent call last)",
      "\u001b[1;32m<ipython-input-11-7936f6e36017>\u001b[0m in \u001b[0;36m<module>\u001b[1;34m\u001b[0m\n\u001b[0;32m      1\u001b[0m \u001b[0mit\u001b[0m\u001b[1;33m=\u001b[0m\u001b[1;33m(\u001b[0m\u001b[0mx\u001b[0m \u001b[1;32mfor\u001b[0m \u001b[0mx\u001b[0m \u001b[1;32min\u001b[0m \u001b[0mfibonacci\u001b[0m\u001b[1;33m(\u001b[0m\u001b[1;36m100\u001b[0m\u001b[1;33m)\u001b[0m \u001b[1;32mif\u001b[0m \u001b[0mx\u001b[0m\u001b[1;33m%\u001b[0m\u001b[1;36m2\u001b[0m\u001b[1;33m==\u001b[0m\u001b[1;36m0\u001b[0m\u001b[1;33m)\u001b[0m\u001b[1;33m\u001b[0m\u001b[1;33m\u001b[0m\u001b[0m\n\u001b[0;32m      2\u001b[0m \u001b[1;32mfor\u001b[0m \u001b[0mi\u001b[0m \u001b[1;32min\u001b[0m \u001b[0mrange\u001b[0m\u001b[1;33m(\u001b[0m\u001b[1;36m100000\u001b[0m\u001b[1;33m)\u001b[0m\u001b[1;33m:\u001b[0m\u001b[1;33m\u001b[0m\u001b[1;33m\u001b[0m\u001b[0m\n\u001b[1;32m----> 3\u001b[1;33m     \u001b[0mprint\u001b[0m\u001b[1;33m(\u001b[0m\u001b[0mnext\u001b[0m\u001b[1;33m(\u001b[0m\u001b[0mit\u001b[0m\u001b[1;33m)\u001b[0m\u001b[1;33m)\u001b[0m\u001b[1;33m\u001b[0m\u001b[1;33m\u001b[0m\u001b[0m\n\u001b[0m",
      "\u001b[1;31mStopIteration\u001b[0m: "
     ]
    }
   ],
   "source": [
    "it=(x for x in fibonacci(100) if x%2==0)\n",
    "for i in range(100000):\n",
    "    print(next(it))"
   ]
  },
  {
   "cell_type": "code",
   "execution_count": null,
   "id": "d7f8d4a6",
   "metadata": {},
   "outputs": [],
   "source": []
  },
  {
   "cell_type": "code",
   "execution_count": null,
   "id": "38acadf4",
   "metadata": {},
   "outputs": [],
   "source": [
    "#lambda expressions"
   ]
  },
  {
   "cell_type": "code",
   "execution_count": null,
   "id": "00a7f458",
   "metadata": {},
   "outputs": [],
   "source": []
  }
 ],
 "metadata": {
  "kernelspec": {
   "display_name": "Python 3",
   "language": "python",
   "name": "python3"
  },
  "language_info": {
   "codemirror_mode": {
    "name": "ipython",
    "version": 3
   },
   "file_extension": ".py",
   "mimetype": "text/x-python",
   "name": "python",
   "nbconvert_exporter": "python",
   "pygments_lexer": "ipython3",
   "version": "3.8.8"
  }
 },
 "nbformat": 4,
 "nbformat_minor": 5
}
