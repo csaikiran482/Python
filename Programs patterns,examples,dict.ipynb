{
 "cells": [
  {
   "cell_type": "code",
   "execution_count": 29,
   "id": "2fdb3a75",
   "metadata": {},
   "outputs": [
    {
     "name": "stdout",
     "output_type": "stream",
     "text": [
      "1\n",
      "12\n",
      "123\n",
      "1234\n",
      "12345\n",
      "123456\n",
      "1234567\n",
      "12345678\n",
      "123456789\n",
      "12345678910\n"
     ]
    }
   ],
   "source": [
    "for i in range(1,11):\n",
    "    for j in range(i):\n",
    "        print(j+1,end='')\n",
    "    print()"
   ]
  },
  {
   "cell_type": "code",
   "execution_count": 37,
   "id": "9c7e92b8",
   "metadata": {},
   "outputs": [
    {
     "name": "stdout",
     "output_type": "stream",
     "text": [
      "1\n",
      "22\n",
      "333\n",
      "4444\n",
      "55555\n",
      "666666\n",
      "7777777\n",
      "88888888\n",
      "999999999\n",
      "10101010101010101010\n"
     ]
    }
   ],
   "source": [
    "for i in range(1,11):\n",
    "    for j in range(i):\n",
    "        print(i,end='')\n",
    "    print()"
   ]
  },
  {
   "cell_type": "code",
   "execution_count": 40,
   "id": "fbadbecd",
   "metadata": {},
   "outputs": [
    {
     "name": "stdout",
     "output_type": "stream",
     "text": [
      "A\n",
      "BB\n",
      "CCC\n",
      "DDDD\n",
      "EEEEE\n",
      "FFFFFF\n",
      "GGGGGGG\n",
      "HHHHHHHH\n",
      "IIIIIIIII\n",
      "JJJJJJJJJJ\n"
     ]
    }
   ],
   "source": [
    "for i in range(1,11):\n",
    "    for j in range(i):\n",
    "        print(chr(64+i),end='')\n",
    "    print()"
   ]
  },
  {
   "cell_type": "code",
   "execution_count": 48,
   "id": "99c30b57",
   "metadata": {},
   "outputs": [
    {
     "name": "stdout",
     "output_type": "stream",
     "text": [
      "A\n",
      "AB\n",
      "ABC\n",
      "ABCD\n",
      "ABCDE\n",
      "ABCDEF\n",
      "ABCDEFG\n",
      "ABCDEFGH\n",
      "ABCDEFGHI\n",
      "ABCDEFGHIJ\n"
     ]
    }
   ],
   "source": [
    "for i in range(1,11):\n",
    "    for j in range(i):\n",
    "        print(chr(65+j),end='')\n",
    "    print()"
   ]
  },
  {
   "cell_type": "code",
   "execution_count": 53,
   "id": "786b9062",
   "metadata": {},
   "outputs": [
    {
     "name": "stdout",
     "output_type": "stream",
     "text": [
      "**********\n",
      "*********\n",
      "********\n",
      "*******\n",
      "******\n",
      "*****\n",
      "****\n",
      "***\n",
      "**\n",
      "*\n"
     ]
    }
   ],
   "source": [
    "for i in range(1,11):\n",
    "    for j in range(11-i):\n",
    "        print('*',end='')\n",
    "    print()"
   ]
  },
  {
   "cell_type": "code",
   "execution_count": 56,
   "id": "7a9f959a",
   "metadata": {},
   "outputs": [
    {
     "name": "stdout",
     "output_type": "stream",
     "text": [
      "1111111111\n",
      "222222222\n",
      "33333333\n",
      "4444444\n",
      "555555\n",
      "66666\n",
      "7777\n",
      "888\n",
      "99\n",
      "10\n"
     ]
    }
   ],
   "source": [
    "for i in range(1,11):\n",
    "    for j in range(11-i):\n",
    "        print(i,end='')\n",
    "    print()"
   ]
  },
  {
   "cell_type": "code",
   "execution_count": 63,
   "id": "e638f47d",
   "metadata": {},
   "outputs": [
    {
     "name": "stdout",
     "output_type": "stream",
     "text": [
      "12345678910\n",
      "123456789\n",
      "12345678\n",
      "1234567\n",
      "123456\n",
      "12345\n",
      "1234\n",
      "123\n",
      "12\n",
      "1\n"
     ]
    }
   ],
   "source": [
    "for i in range(1,11):\n",
    "    for j in range(11-i):\n",
    "        print(j+1,end='')\n",
    "    print()"
   ]
  },
  {
   "cell_type": "code",
   "execution_count": 69,
   "id": "35cc5b3a",
   "metadata": {},
   "outputs": [
    {
     "name": "stdout",
     "output_type": "stream",
     "text": [
      "AAAAAAAAAA\n",
      "BBBBBBBBB\n",
      "CCCCCCCC\n",
      "DDDDDDD\n",
      "EEEEEE\n",
      "FFFFF\n",
      "GGGG\n",
      "HHH\n",
      "II\n",
      "J\n"
     ]
    }
   ],
   "source": [
    "for i in range(1,11):\n",
    "    for j in range(11-i):\n",
    "        print(chr(64+i),end='')\n",
    "    print()"
   ]
  },
  {
   "cell_type": "code",
   "execution_count": 77,
   "id": "e79cf5b0",
   "metadata": {},
   "outputs": [
    {
     "name": "stdout",
     "output_type": "stream",
     "text": [
      "AAAAAAAAAA\n",
      "BBBBBBBBB\n",
      "CCCCCCCC\n",
      "DDDDDDD\n",
      "EEEEEE\n",
      "FFFFF\n",
      "GGGG\n",
      "HHH\n",
      "II\n",
      "J\n"
     ]
    }
   ],
   "source": [
    "for i in range(10):\n",
    "    for j in range(10-i):\n",
    "        print(chr(65+i),end='')\n",
    "    print()"
   ]
  },
  {
   "cell_type": "code",
   "execution_count": 86,
   "id": "96a39243",
   "metadata": {},
   "outputs": [
    {
     "name": "stdout",
     "output_type": "stream",
     "text": [
      "JIHGFEDCBA\n",
      "JIHGFEDCBA\n",
      "JIHGFEDCBA\n",
      "JIHGFEDCBA\n",
      "JIHGFEDCBA\n",
      "JIHGFEDCBA\n",
      "JIHGFEDCBA\n",
      "JIHGFEDCBA\n",
      "JIHGFEDCBA\n",
      "JIHGFEDCBA\n"
     ]
    }
   ],
   "source": [
    "for i in range(10):\n",
    "    for j in range(10):\n",
    "        print(chr(74-j),end='')\n",
    "    print()"
   ]
  },
  {
   "cell_type": "code",
   "execution_count": 92,
   "id": "9a3c895b",
   "metadata": {},
   "outputs": [
    {
     "name": "stdout",
     "output_type": "stream",
     "text": [
      "*\n",
      "**\n",
      "***\n",
      "****\n",
      "*****\n",
      "******\n",
      "*******\n",
      "********\n",
      "*********\n",
      "**********\n"
     ]
    }
   ],
   "source": [
    "for i in range(10):\n",
    "    for j in range(i+1):\n",
    "        print('*',end='')\n",
    "    print()"
   ]
  },
  {
   "cell_type": "code",
   "execution_count": 97,
   "id": "8831fff9",
   "metadata": {},
   "outputs": [
    {
     "name": "stdout",
     "output_type": "stream",
     "text": [
      "**********\n",
      "*********\n",
      "********\n",
      "*******\n",
      "******\n",
      "*****\n",
      "****\n",
      "***\n",
      "**\n",
      "*\n"
     ]
    }
   ],
   "source": [
    "for i in range(10):   \n",
    "    for j in range(10-i):\n",
    "        print('*',end='')\n",
    "    print()"
   ]
  },
  {
   "cell_type": "code",
   "execution_count": 4,
   "id": "bebef3f2",
   "metadata": {},
   "outputs": [
    {
     "name": "stdout",
     "output_type": "stream",
     "text": [
      "1111111111\n",
      "222222222\n",
      "33333333\n",
      "4444444\n",
      "555555\n",
      "66666\n",
      "7777\n",
      "888\n",
      "99\n",
      "10\n"
     ]
    }
   ],
   "source": [
    "for i in range(1,11):\n",
    "    for j in range(11-i):\n",
    "        print(i,end='')\n",
    "    print()"
   ]
  },
  {
   "cell_type": "code",
   "execution_count": 9,
   "id": "f42598af",
   "metadata": {},
   "outputs": [
    {
     "name": "stdout",
     "output_type": "stream",
     "text": [
      "12345678910\n",
      "123456789\n",
      "12345678\n",
      "1234567\n",
      "123456\n",
      "12345\n",
      "1234\n",
      "123\n",
      "12\n",
      "1\n"
     ]
    }
   ],
   "source": [
    "for i in range(1,11):\n",
    "    for j in range(11-i):\n",
    "        print(j+1,end='')\n",
    "    print()"
   ]
  },
  {
   "cell_type": "code",
   "execution_count": 10,
   "id": "75e47ba4",
   "metadata": {},
   "outputs": [
    {
     "name": "stdout",
     "output_type": "stream",
     "text": [
      "AAAAAAAAAA\n",
      "BBBBBBBBB\n",
      "CCCCCCCC\n",
      "DDDDDDD\n",
      "EEEEEE\n",
      "FFFFF\n",
      "GGGG\n",
      "HHH\n",
      "II\n",
      "J\n"
     ]
    }
   ],
   "source": [
    "for i in range(1,11):\n",
    "    for j in range(11-i):\n",
    "        print(chr(64+i),end='')\n",
    "    print() "
   ]
  },
  {
   "cell_type": "code",
   "execution_count": 27,
   "id": "e463a775",
   "metadata": {},
   "outputs": [
    {
     "name": "stdout",
     "output_type": "stream",
     "text": [
      "enter the numbers10\n",
      "ABCDEFGHIJ\n",
      "ABCDEFGHI\n",
      "ABCDEFGH\n",
      "ABCDEFG\n",
      "ABCDEF\n",
      "ABCDE\n",
      "ABCD\n",
      "ABC\n",
      "AB\n",
      "A\n"
     ]
    }
   ],
   "source": [
    "n= int(input(\"enter the numbers\"))\n",
    "for i in range(n):\n",
    "    for j in range(n-i):\n",
    "        print(chr(64+j+1),end='')\n",
    "    print()"
   ]
  },
  {
   "cell_type": "code",
   "execution_count": 32,
   "id": "bfb43109",
   "metadata": {},
   "outputs": [
    {
     "name": "stdout",
     "output_type": "stream",
     "text": [
      "Enter the iterations10\n",
      "10987654321\n",
      "1098765432\n",
      "109876543\n",
      "10987654\n",
      "1098765\n",
      "109876\n",
      "10987\n",
      "1098\n",
      "109\n",
      "10\n"
     ]
    }
   ],
   "source": [
    "n= int(input('Enter the iterations'))\n",
    "for i in range(n):\n",
    "    for j in range(n-i):\n",
    "        print(n-j,end='')\n",
    "    print()"
   ]
  },
  {
   "cell_type": "code",
   "execution_count": 39,
   "id": "d4918b5f",
   "metadata": {},
   "outputs": [
    {
     "name": "stdout",
     "output_type": "stream",
     "text": [
      "enter the iterations10\n",
      "JJJJJJJJJJ\n",
      "IIIIIIIII\n",
      "HHHHHHHH\n",
      "GGGGGGG\n",
      "FFFFFF\n",
      "EEEEE\n",
      "DDDD\n",
      "CCC\n",
      "BB\n",
      "A\n"
     ]
    }
   ],
   "source": [
    "n = int(input('enter the iterations'))\n",
    "for i in range(1,n+1):\n",
    "    for j in range(n+1-i):\n",
    "        print(chr(75-i),end='')\n",
    "    print()"
   ]
  },
  {
   "cell_type": "code",
   "execution_count": 48,
   "id": "a3540661",
   "metadata": {},
   "outputs": [
    {
     "name": "stdout",
     "output_type": "stream",
     "text": [
      "JIHGFEDCBA\n",
      "JIHGFEDCB\n",
      "JIHGFEDC\n",
      "JIHGFED\n",
      "JIHGFE\n",
      "JIHGF\n",
      "JIHG\n",
      "JIH\n",
      "JI\n",
      "J\n"
     ]
    }
   ],
   "source": [
    "for i in range(1,11):\n",
    "    for j in range(11-i):\n",
    "        print(chr(74-j),end='')\n",
    "    print()"
   ]
  },
  {
   "cell_type": "code",
   "execution_count": 68,
   "id": "af01afa3",
   "metadata": {},
   "outputs": [
    {
     "name": "stdout",
     "output_type": "stream",
     "text": [
      "           \n",
      "     *     \n",
      "     **    \n",
      "    ***    \n",
      "    ****   \n",
      "   *****   \n",
      "   ******  \n",
      "  *******  \n",
      "  ******** \n",
      " ********* \n",
      " **********\n"
     ]
    }
   ],
   "source": [
    "for i in range(11):\n",
    "    #var= '*'*i\n",
    "    print(str('*'*i).center(11,' '))\n",
    "    #for j in range(10-i):\n",
    "        #print('*')\n",
    "    #print()"
   ]
  },
  {
   "cell_type": "code",
   "execution_count": 91,
   "id": "f99baf80",
   "metadata": {},
   "outputs": [
    {
     "name": "stdout",
     "output_type": "stream",
     "text": [
      "*\n",
      "**\n",
      "***\n",
      "****\n",
      "*****\n",
      "******\n",
      "*******\n",
      "********\n",
      "*********\n",
      "**********\n"
     ]
    }
   ],
   "source": [
    "for i in range(1,11):\n",
    "    for j in range(i):\n",
    "        print('*',end='')\n",
    "    print()"
   ]
  },
  {
   "cell_type": "code",
   "execution_count": 130,
   "id": "36651435",
   "metadata": {},
   "outputs": [],
   "source": [
    "class operations():\n",
    "    def __init__(self,x,y):\n",
    "        self.x = x\n",
    "        self.y = y\n",
    "        self.c=0\n",
    "    def add_num(self):\n",
    "        self.c = self.x+self.y\n",
    "        return self.c\n",
    "    def sub_num(self):\n",
    "        self.c = self.x-self.y\n",
    "        return self.c\n",
    "    def __str__(self):\n",
    "        return self.c"
   ]
  },
  {
   "cell_type": "code",
   "execution_count": 131,
   "id": "0f39233e",
   "metadata": {},
   "outputs": [
    {
     "data": {
      "text/plain": [
       "30"
      ]
     },
     "execution_count": 131,
     "metadata": {},
     "output_type": "execute_result"
    }
   ],
   "source": [
    "a = operations(10,20)\n",
    "a.add_num()"
   ]
  },
  {
   "cell_type": "code",
   "execution_count": 122,
   "id": "12bcc4b3",
   "metadata": {},
   "outputs": [
    {
     "data": {
      "text/plain": [
       "<__main__.operations at 0x17c6cbb1340>"
      ]
     },
     "execution_count": 122,
     "metadata": {},
     "output_type": "execute_result"
    }
   ],
   "source": [
    "a"
   ]
  },
  {
   "cell_type": "code",
   "execution_count": 201,
   "id": "90e9c421",
   "metadata": {},
   "outputs": [],
   "source": [
    "class zoo():\n",
    "    def __init__(self,D):\n",
    "        self.D=D\n",
    "    def add_animals(self,Key,Value):\n",
    "        self.D[Key]=Value\n",
    "        return self.D\n",
    "    def gone_animals(self,Key,Value):\n",
    "        for Key in self.D.keys():     \n",
    "            if self.D[Key]>Value:\n",
    "                self.D[Key]=self.D[Key]-Value\n",
    "            else:\n",
    "                del D[Key]\n",
    "        return self.D\n",
    "    def highest_animals(self):\n",
    "            l=[]\n",
    "            z=max(self.D.values())\n",
    "            for Key in self.D:\n",
    "                if self.D[Key]==z:\n",
    "                    l.append(Key)\n",
    "            return l\n",
    "#     def lowest_animals(self):\n",
    "#         min(self.D[Value])\n",
    "#         return self.D   \n",
    "    def __str__(self):\n",
    "        return self.D"
   ]
  },
  {
   "cell_type": "code",
   "execution_count": 202,
   "id": "4a4c36bc",
   "metadata": {},
   "outputs": [
    {
     "data": {
      "text/plain": [
       "{'Bala': 6, 'donkey': 8}"
      ]
     },
     "execution_count": 202,
     "metadata": {},
     "output_type": "execute_result"
    }
   ],
   "source": [
    "B={} \n",
    "B['Bala']=6\n",
    "B['donkey']=8\n",
    "B"
   ]
  },
  {
   "cell_type": "code",
   "execution_count": 203,
   "id": "868bc531",
   "metadata": {},
   "outputs": [
    {
     "data": {
      "text/plain": [
       "{'Bala': 6, 'donkey': 8, 'Buffalo': 20}"
      ]
     },
     "execution_count": 203,
     "metadata": {},
     "output_type": "execute_result"
    }
   ],
   "source": [
    "model = zoo(B)\n",
    "model.add_animals('Buffalo',20)"
   ]
  },
  {
   "cell_type": "code",
   "execution_count": 204,
   "id": "6ce6d3e1",
   "metadata": {},
   "outputs": [
    {
     "data": {
      "text/plain": [
       "['Buffalo']"
      ]
     },
     "execution_count": 204,
     "metadata": {},
     "output_type": "execute_result"
    }
   ],
   "source": [
    "model.highest_animals()"
   ]
  },
  {
   "cell_type": "code",
   "execution_count": 205,
   "id": "a87edb16",
   "metadata": {},
   "outputs": [
    {
     "data": {
      "text/plain": [
       "{'Bala': 4, 'donkey': 6, 'Buffalo': 18}"
      ]
     },
     "execution_count": 205,
     "metadata": {},
     "output_type": "execute_result"
    }
   ],
   "source": [
    "model.gone_animals('Buffalo',2)"
   ]
  }
 ],
 "metadata": {
  "kernelspec": {
   "display_name": "Python 3",
   "language": "python",
   "name": "python3"
  },
  "language_info": {
   "codemirror_mode": {
    "name": "ipython",
    "version": 3
   },
   "file_extension": ".py",
   "mimetype": "text/x-python",
   "name": "python",
   "nbconvert_exporter": "python",
   "pygments_lexer": "ipython3",
   "version": "3.8.8"
  }
 },
 "nbformat": 4,
 "nbformat_minor": 5
}
