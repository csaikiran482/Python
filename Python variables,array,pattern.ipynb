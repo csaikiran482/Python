{
 "cells": [
  {
   "cell_type": "code",
   "execution_count": 1,
   "id": "ff18cd8f",
   "metadata": {},
   "outputs": [
    {
     "name": "stdout",
     "output_type": "stream",
     "text": [
      "0\n",
      "1\n",
      "2\n",
      "3\n",
      "4\n"
     ]
    }
   ],
   "source": [
    "x={'Sai',10,55,'kir',250}\n",
    "for i in range(len(x)):\n",
    "    print(i)"
   ]
  },
  {
   "cell_type": "code",
   "execution_count": 2,
   "id": "3720fdf8",
   "metadata": {},
   "outputs": [
    {
     "name": "stdout",
     "output_type": "stream",
     "text": [
      "Hello 1\n",
      "Hello 2\n",
      "Hello 4\n"
     ]
    }
   ],
   "source": [
    "for i in range(1,5):\n",
    "    if i==3:\n",
    "        continue\n",
    "    print(\"Hello\",i)"
   ]
  },
  {
   "cell_type": "code",
   "execution_count": 3,
   "id": "0ff948d1",
   "metadata": {},
   "outputs": [
    {
     "name": "stdout",
     "output_type": "stream",
     "text": [
      "hello 1\n",
      "hello 2\n",
      "hello 3\n"
     ]
    }
   ],
   "source": [
    "for i in range(1,5):\n",
    "    if i ==4:\n",
    "        break\n",
    "    print(\"hello\",i)"
   ]
  },
  {
   "cell_type": "code",
   "execution_count": 4,
   "id": "6a98ac82",
   "metadata": {},
   "outputs": [
    {
     "name": "stdout",
     "output_type": "stream",
     "text": [
      "1111111111\n",
      "2222222222\n",
      "3333333333\n",
      "4444444444\n",
      "5555555555\n",
      "6666666666\n",
      "7777777777\n",
      "8888888888\n",
      "9999999999\n",
      "10101010101010101010\n"
     ]
    }
   ],
   "source": [
    "for i in range(1,11):\n",
    "    for j in range(10):\n",
    "        print(i ,end='')\n",
    "    print()"
   ]
  },
  {
   "cell_type": "code",
   "execution_count": 5,
   "id": "ee6bd4c6",
   "metadata": {},
   "outputs": [
    {
     "name": "stdout",
     "output_type": "stream",
     "text": [
      "1111111111\n",
      "2222222222\n",
      "3333333333\n",
      "4444444444\n",
      "5555555555\n",
      "6666666666\n",
      "7777777777\n",
      "8888888888\n",
      "9999999999\n",
      "10101010101010101010\n"
     ]
    }
   ],
   "source": [
    "for i in range(1,11):\n",
    "    for j in range(1,11):\n",
    "        print(i,end='')\n",
    "    print()"
   ]
  },
  {
   "cell_type": "code",
   "execution_count": 6,
   "id": "7a5e7b23",
   "metadata": {},
   "outputs": [
    {
     "name": "stdout",
     "output_type": "stream",
     "text": [
      "* * * * * * * * * * \n",
      "* * * * * * * * * * \n",
      "* * * * * * * * * * \n",
      "* * * * * * * * * * \n",
      "* * * * * * * * * * \n",
      "* * * * * * * * * * \n",
      "* * * * * * * * * * \n",
      "* * * * * * * * * * \n",
      "* * * * * * * * * * \n",
      "* * * * * * * * * * \n"
     ]
    }
   ],
   "source": [
    "for i in range(10):\n",
    "    for j in range(10):\n",
    "        print('* ',end='')\n",
    "    print()"
   ]
  },
  {
   "cell_type": "code",
   "execution_count": 7,
   "id": "8727989d",
   "metadata": {},
   "outputs": [
    {
     "name": "stdout",
     "output_type": "stream",
     "text": [
      "* \n",
      "* * \n",
      "* * * \n",
      "* * * * \n",
      "* * * * * \n",
      "* * * * * * \n",
      "* * * * * * * \n",
      "* * * * * * * * \n",
      "* * * * * * * * * \n",
      "* * * * * * * * * * \n"
     ]
    }
   ],
   "source": [
    "for i in range(10):\n",
    "    for j in range(i+1):\n",
    "        print('* ',end='')\n",
    "    print()"
   ]
  },
  {
   "cell_type": "code",
   "execution_count": 8,
   "id": "b32962ce",
   "metadata": {},
   "outputs": [
    {
     "name": "stdout",
     "output_type": "stream",
     "text": [
      "* * * * * * * * * * \n",
      "* * * * * * * * * \n",
      "* * * * * * * * \n",
      "* * * * * * * \n",
      "* * * * * * \n",
      "* * * * * \n",
      "* * * * \n",
      "* * * \n",
      "* * \n",
      "* \n"
     ]
    }
   ],
   "source": [
    "for i in range(10):\n",
    "    for j in range(10-i):\n",
    "        print('* ',end='')\n",
    "    print()"
   ]
  },
  {
   "cell_type": "code",
   "execution_count": 9,
   "id": "cf1993de",
   "metadata": {},
   "outputs": [
    {
     "name": "stdout",
     "output_type": "stream",
     "text": [
      "ABCDEFGHIJ\n",
      "ABCDEFGHIJ\n",
      "ABCDEFGHIJ\n",
      "ABCDEFGHIJ\n",
      "ABCDEFGHIJ\n",
      "ABCDEFGHIJ\n",
      "ABCDEFGHIJ\n",
      "ABCDEFGHIJ\n",
      "ABCDEFGHIJ\n",
      "ABCDEFGHIJ\n",
      "ABCDEFGHIJ\n"
     ]
    }
   ],
   "source": [
    "for i in range(11):\n",
    "    for j in range(1,11):\n",
    "        print(chr(64+j),end='')\n",
    "    print()"
   ]
  },
  {
   "cell_type": "code",
   "execution_count": 10,
   "id": "217371b9",
   "metadata": {},
   "outputs": [
    {
     "name": "stdout",
     "output_type": "stream",
     "text": [
      "1010101010101010101010\n",
      "99999999999\n",
      "88888888888\n",
      "77777777777\n",
      "66666666666\n",
      "55555555555\n",
      "44444444444\n",
      "33333333333\n",
      "22222222222\n",
      "11111111111\n"
     ]
    }
   ],
   "source": [
    "for i in range(1,11):\n",
    "    for j in range(11):\n",
    "        print(11-i,end='')\n",
    "    print()"
   ]
  },
  {
   "cell_type": "code",
   "execution_count": 11,
   "id": "ad9d30a9",
   "metadata": {},
   "outputs": [
    {
     "name": "stdout",
     "output_type": "stream",
     "text": [
      "10987654321\n",
      "10987654321\n",
      "10987654321\n",
      "10987654321\n",
      "10987654321\n",
      "10987654321\n",
      "10987654321\n",
      "10987654321\n",
      "10987654321\n",
      "10987654321\n"
     ]
    }
   ],
   "source": [
    "for i in range(1,11):\n",
    "    for j in range(10):\n",
    "        print(10-j,end='')\n",
    "    print()"
   ]
  },
  {
   "cell_type": "code",
   "execution_count": 12,
   "id": "51784e4d",
   "metadata": {},
   "outputs": [
    {
     "name": "stdout",
     "output_type": "stream",
     "text": [
      "JIHGFEDCBA\n",
      "JIHGFEDCBA\n",
      "JIHGFEDCBA\n",
      "JIHGFEDCBA\n",
      "JIHGFEDCBA\n",
      "JIHGFEDCBA\n",
      "JIHGFEDCBA\n",
      "JIHGFEDCBA\n",
      "JIHGFEDCBA\n",
      "JIHGFEDCBA\n"
     ]
    }
   ],
   "source": [
    "for i in range(1,11):\n",
    "    for j in range(1,11):\n",
    "        print(chr(75-j),end='')\n",
    "    print()"
   ]
  },
  {
   "cell_type": "code",
   "execution_count": 13,
   "id": "23e7f307",
   "metadata": {},
   "outputs": [
    {
     "name": "stdout",
     "output_type": "stream",
     "text": [
      "not prime\n"
     ]
    }
   ],
   "source": [
    "i = 10\n",
    "for j in range(2,i):\n",
    "    if i%j==0:\n",
    "        print(\"not prime\")\n",
    "        break\n",
    "else:\n",
    "    print(\"prime\")"
   ]
  },
  {
   "cell_type": "code",
   "execution_count": 14,
   "id": "92f0b0e2",
   "metadata": {},
   "outputs": [
    {
     "name": "stdout",
     "output_type": "stream",
     "text": [
      "10\n",
      "20\n",
      "30\n",
      "40\n"
     ]
    }
   ],
   "source": [
    "import array as arr\n",
    "val  = arr.array('i',[10,20,30,40])\n",
    "newarr= arr.array(val.typecode,(a for a in val))\n",
    "i=0\n",
    "while i <len(newarr):\n",
    "    print(newarr[i])\n",
    "    i+=1  "
   ]
  },
  {
   "cell_type": "code",
   "execution_count": 15,
   "id": "e88852a0",
   "metadata": {},
   "outputs": [
    {
     "name": "stdout",
     "output_type": "stream",
     "text": [
      "1\n",
      "2\n",
      "3\n",
      "4\n",
      "5\n",
      "6\n",
      "7\n",
      "8\n",
      "9\n",
      "10\n",
      "11\n",
      "12\n",
      "13\n",
      "14\n",
      "16\n",
      "17\n",
      "18\n",
      "19\n",
      "bye\n"
     ]
    }
   ],
   "source": [
    "#continue\n",
    "for i in range(1,20):\n",
    "    if i%3==0 and i%5==0:\n",
    "        continue\n",
    "    print(i)\n",
    "print(\"bye\")"
   ]
  },
  {
   "cell_type": "code",
   "execution_count": 16,
   "id": "eee74ca1",
   "metadata": {},
   "outputs": [
    {
     "name": "stdout",
     "output_type": "stream",
     "text": [
      "# # # # \n",
      "# # # \n",
      "# # \n",
      "# \n"
     ]
    }
   ],
   "source": [
    "for i in range(4):\n",
    "    for j in range(4-i):\n",
    "        print('# ', end='')\n",
    "    print()"
   ]
  },
  {
   "cell_type": "code",
   "execution_count": 21,
   "id": "9bc16c47",
   "metadata": {},
   "outputs": [
    {
     "name": "stdout",
     "output_type": "stream",
     "text": [
      "not found\n"
     ]
    }
   ],
   "source": [
    "# for-else\n",
    "i=[12,16,18,11,24]\n",
    "for j in i:\n",
    "    if j%5==0:\n",
    "        print(j)\n",
    "        break\n",
    "else:\n",
    "    print(\"not found\")"
   ]
  },
  {
   "cell_type": "code",
   "execution_count": 22,
   "id": "65fcdf4c",
   "metadata": {},
   "outputs": [
    {
     "name": "stdout",
     "output_type": "stream",
     "text": [
      "10\n",
      "20\n",
      "30\n",
      "40\n",
      "85\n"
     ]
    }
   ],
   "source": [
    "# Array\n",
    "import array as arr\n",
    "z = [10,20,30,40,85]\n",
    "var = arr.array('i',z)\n",
    "# var.reverse()\n",
    "for i in range(len(z)):\n",
    "    print(var[i])"
   ]
  },
  {
   "cell_type": "code",
   "execution_count": 23,
   "id": "d0874129",
   "metadata": {},
   "outputs": [
    {
     "name": "stdout",
     "output_type": "stream",
     "text": [
      "10\n",
      "20\n",
      "30\n",
      "40\n"
     ]
    }
   ],
   "source": [
    "import array as arr\n",
    "val  = arr.array('i',[10,20,30,40])\n",
    "newarr= arr.array(val.typecode,(a for a in val))\n",
    "i=0\n",
    "while i <len(newarr):\n",
    "    print(newarr[i])\n",
    "    i+=1"
   ]
  },
  {
   "cell_type": "code",
   "execution_count": 24,
   "id": "27ae06dd",
   "metadata": {},
   "outputs": [
    {
     "name": "stdout",
     "output_type": "stream",
     "text": [
      "Enter the value of array3\n",
      "Enter the next value10\n",
      "Enter the next value2\n",
      "Enter the next value3\n",
      "array('i', [10, 2, 3])\n",
      "Enter the search number3\n",
      "2\n",
      "2\n"
     ]
    }
   ],
   "source": [
    "import array as arr\n",
    "arr=arr.array('i',[])\n",
    "n = int(input(\"Enter the value of array\"))\n",
    "for i in range(n):\n",
    "    z=int(input(\"Enter the next value\"))\n",
    "    arr.append(z)\n",
    "print(arr)\n",
    "\n",
    "val= int(input(\"Enter the search number\"))\n",
    "k=0\n",
    "for j in arr:\n",
    "    if j==val:\n",
    "        print(k)\n",
    "        break\n",
    "    k+=1\n",
    "else:\n",
    "    print('Not found')\n",
    "\n",
    "# or method to use search the index \n",
    "print(arr.index(val))"
   ]
  },
  {
   "cell_type": "code",
   "execution_count": null,
   "id": "b00f4241",
   "metadata": {},
   "outputs": [],
   "source": []
  },
  {
   "cell_type": "code",
   "execution_count": null,
   "id": "00c9ee4e",
   "metadata": {},
   "outputs": [],
   "source": []
  },
  {
   "cell_type": "code",
   "execution_count": null,
   "id": "335618dd",
   "metadata": {},
   "outputs": [],
   "source": []
  },
  {
   "cell_type": "code",
   "execution_count": null,
   "id": "98e4ad43",
   "metadata": {},
   "outputs": [],
   "source": []
  },
  {
   "cell_type": "code",
   "execution_count": null,
   "id": "4795afaf",
   "metadata": {},
   "outputs": [],
   "source": []
  }
 ],
 "metadata": {
  "kernelspec": {
   "display_name": "Python 3",
   "language": "python",
   "name": "python3"
  },
  "language_info": {
   "codemirror_mode": {
    "name": "ipython",
    "version": 3
   },
   "file_extension": ".py",
   "mimetype": "text/x-python",
   "name": "python",
   "nbconvert_exporter": "python",
   "pygments_lexer": "ipython3",
   "version": "3.8.8"
  }
 },
 "nbformat": 4,
 "nbformat_minor": 5
}
